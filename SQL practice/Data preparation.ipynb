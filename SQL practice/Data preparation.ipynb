{
 "cells": [
  {
   "cell_type": "code",
   "execution_count": 62,
   "id": "c77563d3",
   "metadata": {},
   "outputs": [],
   "source": [
    "import pandas as pd  \n",
    "  \n",
    "data = pd.read_csv('Paintings.csv')\n",
    "  \n",
    "# drop columns which are not needed\n",
    "data.drop(['Seller', 'Buyer', 'Image', 'Painting Wikipedia Profile', 'Artist Wikipedia Profile', 'Description'], inplace=True, axis=1)"
   ]
  },
  {
   "cell_type": "code",
   "execution_count": 63,
   "id": "840bf558",
   "metadata": {},
   "outputs": [],
   "source": [
    "# data cleanup\n",
    "data[\"Original Price\"] = data[\"Original Price\"].str.replace(\"$\",\"\",regex=True)   \n",
    "data[\"Adjusted Price\"] = data[\"Adjusted Price\"].str.replace(\"$\",\"\",regex=True)   \n",
    "data[\"Original Price\"] = data[\"Original Price\"].str.replace(',', '').astype(float)\n",
    "data[\"Adjusted Price\"] = data[\"Adjusted Price\"].str.replace(',', '').astype(float)"
   ]
  },
  {
   "cell_type": "code",
   "execution_count": 64,
   "id": "ef7fc222",
   "metadata": {},
   "outputs": [
    {
     "data": {
      "text/html": [
       "<div>\n",
       "<style scoped>\n",
       "    .dataframe tbody tr th:only-of-type {\n",
       "        vertical-align: middle;\n",
       "    }\n",
       "\n",
       "    .dataframe tbody tr th {\n",
       "        vertical-align: top;\n",
       "    }\n",
       "\n",
       "    .dataframe thead th {\n",
       "        text-align: right;\n",
       "    }\n",
       "</style>\n",
       "<table border=\"1\" class=\"dataframe\">\n",
       "  <thead>\n",
       "    <tr style=\"text-align: right;\">\n",
       "      <th></th>\n",
       "      <th>Painting</th>\n",
       "      <th>Artist</th>\n",
       "      <th>Year of Painting</th>\n",
       "      <th>Adjusted Price</th>\n",
       "      <th>Original Price</th>\n",
       "      <th>Date of Sale</th>\n",
       "      <th>Year of Sale</th>\n",
       "      <th>Auction House</th>\n",
       "    </tr>\n",
       "  </thead>\n",
       "  <tbody>\n",
       "    <tr>\n",
       "      <th>0</th>\n",
       "      <td>A Wheatfield with Cypresses</td>\n",
       "      <td>Vincent van Gogh</td>\n",
       "      <td>1889</td>\n",
       "      <td>93700000.0</td>\n",
       "      <td>57000000.0</td>\n",
       "      <td>1/05/1993</td>\n",
       "      <td>1993</td>\n",
       "      <td>Private sale</td>\n",
       "    </tr>\n",
       "    <tr>\n",
       "      <th>1</th>\n",
       "      <td>Acrobate et jeune arlequin</td>\n",
       "      <td>Pablo Picasso</td>\n",
       "      <td>1905</td>\n",
       "      <td>75900000.0</td>\n",
       "      <td>38500000.0</td>\n",
       "      <td>28/11/1988</td>\n",
       "      <td>1988</td>\n",
       "      <td>Christie's</td>\n",
       "    </tr>\n",
       "    <tr>\n",
       "      <th>2</th>\n",
       "      <td>Adele Bloch-Bauer II</td>\n",
       "      <td>Gustav Klimt</td>\n",
       "      <td>1912</td>\n",
       "      <td>103500000.0</td>\n",
       "      <td>87900000.0</td>\n",
       "      <td>2/11/2006</td>\n",
       "      <td>2006</td>\n",
       "      <td>Christie's</td>\n",
       "    </tr>\n",
       "    <tr>\n",
       "      <th>3</th>\n",
       "      <td>Anna's Light</td>\n",
       "      <td>Barnett Newman</td>\n",
       "      <td>1968</td>\n",
       "      <td>107300000.0</td>\n",
       "      <td>105700000.0</td>\n",
       "      <td>4/10/2013</td>\n",
       "      <td>2013</td>\n",
       "      <td>Private sale</td>\n",
       "    </tr>\n",
       "    <tr>\n",
       "      <th>4</th>\n",
       "      <td>Au Lapin Agile</td>\n",
       "      <td>Pablo Picasso</td>\n",
       "      <td>1904</td>\n",
       "      <td>76600000.0</td>\n",
       "      <td>40700000.0</td>\n",
       "      <td>27/11/1989</td>\n",
       "      <td>1989</td>\n",
       "      <td>Sotheby's</td>\n",
       "    </tr>\n",
       "  </tbody>\n",
       "</table>\n",
       "</div>"
      ],
      "text/plain": [
       "                      Painting            Artist Year of Painting  \\\n",
       "0  A Wheatfield with Cypresses  Vincent van Gogh             1889   \n",
       "1   Acrobate et jeune arlequin     Pablo Picasso             1905   \n",
       "2         Adele Bloch-Bauer II      Gustav Klimt             1912   \n",
       "3                 Anna's Light    Barnett Newman             1968   \n",
       "4               Au Lapin Agile     Pablo Picasso             1904   \n",
       "\n",
       "   Adjusted Price  Original Price Date of Sale  Year of Sale  Auction House  \n",
       "0      93700000.0      57000000.0    1/05/1993          1993  Private sale   \n",
       "1      75900000.0      38500000.0   28/11/1988          1988     Christie's  \n",
       "2     103500000.0      87900000.0    2/11/2006          2006     Christie's  \n",
       "3     107300000.0     105700000.0    4/10/2013          2013  Private sale   \n",
       "4      76600000.0      40700000.0   27/11/1989          1989      Sotheby's  "
      ]
     },
     "execution_count": 64,
     "metadata": {},
     "output_type": "execute_result"
    }
   ],
   "source": [
    "data.head()"
   ]
  },
  {
   "cell_type": "code",
   "execution_count": 65,
   "id": "e99ad16c",
   "metadata": {},
   "outputs": [],
   "source": [
    "# saving data to a new file\n",
    "data.to_csv('Paintings_new.csv')"
   ]
  }
 ],
 "metadata": {
  "kernelspec": {
   "display_name": "Python 3",
   "language": "python",
   "name": "python3"
  },
  "language_info": {
   "codemirror_mode": {
    "name": "ipython",
    "version": 3
   },
   "file_extension": ".py",
   "mimetype": "text/x-python",
   "name": "python",
   "nbconvert_exporter": "python",
   "pygments_lexer": "ipython3",
   "version": "3.8.8"
  }
 },
 "nbformat": 4,
 "nbformat_minor": 5
}
