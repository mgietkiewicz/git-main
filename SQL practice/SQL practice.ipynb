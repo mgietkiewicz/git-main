{
 "cells": [
  {
   "cell_type": "markdown",
   "id": "924c4240",
   "metadata": {},
   "source": [
    "## SQL practice - most expensive paintings\n",
    "Source of dataset: https://github.com/ali-ce/datasets/blob/master/Most-Expensive-Things/Paintings.csv"
   ]
  },
  {
   "cell_type": "code",
   "execution_count": 2,
   "id": "20888205",
   "metadata": {},
   "outputs": [],
   "source": [
    "import pandas as pd\n",
    "import sqlite3\n",
    "\n",
    "# Create connection to database\n",
    "conn = sqlite3.connect(\"data.db\")\n",
    "\n",
    "# Create cursor object\n",
    "cursor = conn.cursor()"
   ]
  },
  {
   "cell_type": "code",
   "execution_count": 3,
   "id": "8570a804",
   "metadata": {},
   "outputs": [],
   "source": [
    "plik = pd.read_csv('Paintings_new.csv')"
   ]
  },
  {
   "cell_type": "code",
   "execution_count": 4,
   "id": "da4369cd",
   "metadata": {},
   "outputs": [
    {
     "name": "stderr",
     "output_type": "stream",
     "text": [
      "C:\\Users\\mateusz\\anaconda3\\lib\\site-packages\\pandas\\core\\generic.py:2779: UserWarning: The spaces in these column names will not be changed. In pandas versions < 0.14, spaces were converted to underscores.\n",
      "  sql.to_sql(\n"
     ]
    }
   ],
   "source": [
    "plik.to_sql('Paintings', conn, if_exists='replace', index=False)"
   ]
  },
  {
   "cell_type": "code",
   "execution_count": 5,
   "id": "fdb4a04f",
   "metadata": {},
   "outputs": [
    {
     "data": {
      "text/html": [
       "<div>\n",
       "<style scoped>\n",
       "    .dataframe tbody tr th:only-of-type {\n",
       "        vertical-align: middle;\n",
       "    }\n",
       "\n",
       "    .dataframe tbody tr th {\n",
       "        vertical-align: top;\n",
       "    }\n",
       "\n",
       "    .dataframe thead th {\n",
       "        text-align: right;\n",
       "    }\n",
       "</style>\n",
       "<table border=\"1\" class=\"dataframe\">\n",
       "  <thead>\n",
       "    <tr style=\"text-align: right;\">\n",
       "      <th></th>\n",
       "      <th>Unnamed: 0</th>\n",
       "      <th>Painting</th>\n",
       "      <th>Artist</th>\n",
       "      <th>Year of Painting</th>\n",
       "      <th>Adjusted Price</th>\n",
       "      <th>Original Price</th>\n",
       "      <th>Date of Sale</th>\n",
       "      <th>Year of Sale</th>\n",
       "      <th>Auction House</th>\n",
       "    </tr>\n",
       "  </thead>\n",
       "  <tbody>\n",
       "    <tr>\n",
       "      <th>0</th>\n",
       "      <td>0</td>\n",
       "      <td>A Wheatfield with Cypresses</td>\n",
       "      <td>Vincent van Gogh</td>\n",
       "      <td>1889</td>\n",
       "      <td>93700000.0</td>\n",
       "      <td>57000000.0</td>\n",
       "      <td>1/05/1993</td>\n",
       "      <td>1993</td>\n",
       "      <td>Private sale</td>\n",
       "    </tr>\n",
       "    <tr>\n",
       "      <th>1</th>\n",
       "      <td>1</td>\n",
       "      <td>Acrobate et jeune arlequin</td>\n",
       "      <td>Pablo Picasso</td>\n",
       "      <td>1905</td>\n",
       "      <td>75900000.0</td>\n",
       "      <td>38500000.0</td>\n",
       "      <td>28/11/1988</td>\n",
       "      <td>1988</td>\n",
       "      <td>Christie's</td>\n",
       "    </tr>\n",
       "    <tr>\n",
       "      <th>2</th>\n",
       "      <td>2</td>\n",
       "      <td>Adele Bloch-Bauer II</td>\n",
       "      <td>Gustav Klimt</td>\n",
       "      <td>1912</td>\n",
       "      <td>103500000.0</td>\n",
       "      <td>87900000.0</td>\n",
       "      <td>2/11/2006</td>\n",
       "      <td>2006</td>\n",
       "      <td>Christie's</td>\n",
       "    </tr>\n",
       "    <tr>\n",
       "      <th>3</th>\n",
       "      <td>3</td>\n",
       "      <td>Anna's Light</td>\n",
       "      <td>Barnett Newman</td>\n",
       "      <td>1968</td>\n",
       "      <td>107300000.0</td>\n",
       "      <td>105700000.0</td>\n",
       "      <td>4/10/2013</td>\n",
       "      <td>2013</td>\n",
       "      <td>Private sale</td>\n",
       "    </tr>\n",
       "    <tr>\n",
       "      <th>4</th>\n",
       "      <td>4</td>\n",
       "      <td>Au Lapin Agile</td>\n",
       "      <td>Pablo Picasso</td>\n",
       "      <td>1904</td>\n",
       "      <td>76600000.0</td>\n",
       "      <td>40700000.0</td>\n",
       "      <td>27/11/1989</td>\n",
       "      <td>1989</td>\n",
       "      <td>Sotheby's</td>\n",
       "    </tr>\n",
       "  </tbody>\n",
       "</table>\n",
       "</div>"
      ],
      "text/plain": [
       "   Unnamed: 0                     Painting            Artist Year of Painting  \\\n",
       "0           0  A Wheatfield with Cypresses  Vincent van Gogh             1889   \n",
       "1           1   Acrobate et jeune arlequin     Pablo Picasso             1905   \n",
       "2           2         Adele Bloch-Bauer II      Gustav Klimt             1912   \n",
       "3           3                 Anna's Light    Barnett Newman             1968   \n",
       "4           4               Au Lapin Agile     Pablo Picasso             1904   \n",
       "\n",
       "   Adjusted Price  Original Price Date of Sale  Year of Sale  Auction House  \n",
       "0      93700000.0      57000000.0    1/05/1993          1993  Private sale   \n",
       "1      75900000.0      38500000.0   28/11/1988          1988     Christie's  \n",
       "2     103500000.0      87900000.0    2/11/2006          2006     Christie's  \n",
       "3     107300000.0     105700000.0    4/10/2013          2013  Private sale   \n",
       "4      76600000.0      40700000.0   27/11/1989          1989      Sotheby's  "
      ]
     },
     "execution_count": 5,
     "metadata": {},
     "output_type": "execute_result"
    }
   ],
   "source": [
    "df = pd.read_sql_query('''SELECT * from Paintings;''', conn)\n",
    " \n",
    "df.head()"
   ]
  },
  {
   "cell_type": "markdown",
   "id": "0c3019fa",
   "metadata": {},
   "source": [
    "### 5 most expensive paintings"
   ]
  },
  {
   "cell_type": "code",
   "execution_count": 65,
   "id": "15fee091",
   "metadata": {},
   "outputs": [
    {
     "data": {
      "text/plain": [
       "[('The Card Players', 'Paul Cézanne', 259000000.0),\n",
       " ('Le Rêve', 'Pablo Picasso', 155000000.0),\n",
       " ('Three Studies of Lucian Freud', 'Francis Bacon', 142400000.0),\n",
       " ('No. 5, 1948', 'Jackson Pollock', 140000000.0),\n",
       " ('Woman III', 'Willem de Kooning', 137500000.0)]"
      ]
     },
     "execution_count": 65,
     "metadata": {},
     "output_type": "execute_result"
    }
   ],
   "source": [
    "paintings = cursor.execute('SELECT [Painting], [Artist], [Original Price] from Paintings ORDER BY [Original Price] DESC LIMIT 5;').fetchall()\n",
    "paintings"
   ]
  },
  {
   "cell_type": "markdown",
   "id": "8a135970",
   "metadata": {},
   "source": [
    "### Average price"
   ]
  },
  {
   "cell_type": "code",
   "execution_count": 10,
   "id": "609ba65a",
   "metadata": {},
   "outputs": [
    {
     "data": {
      "text/plain": [
       "[(82289090.91,)]"
      ]
     },
     "execution_count": 10,
     "metadata": {},
     "output_type": "execute_result"
    }
   ],
   "source": [
    "avg_price = cursor.execute('SELECT ROUND(AVG([Original Price]), 2) FROM Paintings').fetchall()\n",
    "avg_price"
   ]
  },
  {
   "cell_type": "markdown",
   "id": "013185f9",
   "metadata": {},
   "source": [
    "### Number of paintings sold by earch artist"
   ]
  },
  {
   "cell_type": "code",
   "execution_count": 66,
   "id": "4b964c1e",
   "metadata": {},
   "outputs": [
    {
     "data": {
      "text/plain": [
       "[('Pablo Picasso', 10),\n",
       " ('Vincent van Gogh', 7),\n",
       " ('Andy Warhol', 5),\n",
       " ('Mark Rothko', 4),\n",
       " ('Titian', 3),\n",
       " ('Francis Bacon', 3),\n",
       " ('Willem de Kooning', 2),\n",
       " ('Paul Cézanne', 2),\n",
       " ('Jasper Johns', 2),\n",
       " ('Gustav Klimt', 2),\n",
       " ('Barnett Newman', 2),\n",
       " ('Wang Meng', 1),\n",
       " ('Thomas Eakins', 1),\n",
       " ('Qi Baishi', 1),\n",
       " ('Pontormo', 1),\n",
       " ('Pierre-Auguste Renoir', 1),\n",
       " ('Peter Paul Rubens', 1),\n",
       " ('Leonardo Da Vinci', 1),\n",
       " ('Kazimir Malevich', 1),\n",
       " ('Jackson Pollock', 1),\n",
       " ('Hans Holbein', 1),\n",
       " ('Edvard Munch', 1),\n",
       " ('Claude Monet', 1),\n",
       " ('Amedeo Modigliani', 1)]"
      ]
     },
     "execution_count": 66,
     "metadata": {},
     "output_type": "execute_result"
    }
   ],
   "source": [
    "painting_count = cursor.execute('SELECT [Artist], COUNT([Painting]) AS [Number of paintings] FROM Paintings GROUP BY 1 ORDER BY 2 DESC;').fetchall()\n",
    "painting_count"
   ]
  },
  {
   "cell_type": "markdown",
   "id": "bf2a9d99",
   "metadata": {},
   "source": [
    "### 5 most expensive artists"
   ]
  },
  {
   "cell_type": "code",
   "execution_count": 57,
   "id": "9d255b90",
   "metadata": {},
   "outputs": [
    {
     "data": {
      "text/plain": [
       "[('Pablo Picasso', 741700000.0),\n",
       " ('Andy Warhol', 420500000.0),\n",
       " ('Vincent van Gogh', 410100000.0),\n",
       " ('Paul Cézanne', 319500000.0),\n",
       " ('Francis Bacon', 309500000.0)]"
      ]
     },
     "execution_count": 57,
     "metadata": {},
     "output_type": "execute_result"
    }
   ],
   "source": [
    "artists = cursor.execute('SELECT [Artist], SUM([Original Price]) AS Total from Paintings GROUP BY Artist ORDER BY 2 DESC;').fetchmany(5)\n",
    "artists"
   ]
  },
  {
   "cell_type": "markdown",
   "id": "6126d942",
   "metadata": {},
   "source": [
    "### Auction house with most profits"
   ]
  },
  {
   "cell_type": "code",
   "execution_count": 67,
   "id": "b1cc852b",
   "metadata": {},
   "outputs": [
    {
     "data": {
      "text/plain": [
       "[('Private sale ', 1806000000.0),\n",
       " (\"Sotheby's\", 1195100000.0),\n",
       " (\"Christie's\", 1129500000.0),\n",
       " ('Private sale', 155000000.0),\n",
       " ('China Guardian Auctions', 65500000.0),\n",
       " ('Phillips de Pury & Company', 63400000.0),\n",
       " ('Beijing Poly Auction', 62100000.0),\n",
       " ('Binoche et Godeau Paris', 49300000.0)]"
      ]
     },
     "execution_count": 67,
     "metadata": {},
     "output_type": "execute_result"
    }
   ],
   "source": [
    "auction_house = cursor.execute('SELECT [Auction House], SUM([Original Price]) AS Total from Paintings GROUP BY 1 ORDER BY 2 DESC;').fetchall()\n",
    "auction_house"
   ]
  },
  {
   "cell_type": "markdown",
   "id": "d8d839aa",
   "metadata": {},
   "source": [
    "### Most expensive painting sold in the 90s"
   ]
  },
  {
   "cell_type": "code",
   "execution_count": 7,
   "id": "f9b78219",
   "metadata": {},
   "outputs": [
    {
     "data": {
      "text/plain": [
       "[('Portrait of Dr. Gachet', 'Vincent van Gogh', 82500000.0),\n",
       " ('Bal du moulin de la Galette', 'Pierre-Auguste Renoir', 78100000.0),\n",
       " (\"Portrait de l'artiste sans barbe\", 'Vincent van Gogh', 71500000.0),\n",
       " ('Rideau, Cruchon et Compotier', 'Paul Cézanne', 60500000.0),\n",
       " ('A Wheatfield with Cypresses', 'Vincent van Gogh', 57000000.0)]"
      ]
     },
     "execution_count": 7,
     "metadata": {},
     "output_type": "execute_result"
    }
   ],
   "source": [
    "auction_90s = cursor.execute('SELECT [Painting], [Artist], [Original Price] from Paintings WHERE [Year of Sale] BETWEEN 1990 AND 2000 ORDER BY [Original Price] DESC;').fetchmany(5)\n",
    "auction_90s"
   ]
  },
  {
   "cell_type": "code",
   "execution_count": 69,
   "id": "085fb5f9",
   "metadata": {},
   "outputs": [],
   "source": [
    "# Close connection to SQLite database\n",
    "conn.close()"
   ]
  }
 ],
 "metadata": {
  "kernelspec": {
   "display_name": "Python 3",
   "language": "python",
   "name": "python3"
  }
 },
 "nbformat": 4,
 "nbformat_minor": 5
}
